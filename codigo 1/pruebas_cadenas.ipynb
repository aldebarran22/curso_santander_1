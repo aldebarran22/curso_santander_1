{
 "cells": [
  {
   "cell_type": "markdown",
   "id": "661a432e",
   "metadata": {},
   "source": [
    "## Métodos sobre cadenas"
   ]
  },
  {
   "cell_type": "markdown",
   "id": "7b918aaa",
   "metadata": {},
   "source": [
    "Partir y unir cadenas"
   ]
  },
  {
   "cell_type": "code",
   "execution_count": 1,
   "id": "8448875f",
   "metadata": {},
   "outputs": [
    {
     "data": {
      "text/plain": [
       "['hola', 'que', 'tal']"
      ]
     },
     "execution_count": 1,
     "metadata": {},
     "output_type": "execute_result"
    }
   ],
   "source": [
    "s = \"hola que tal\"\n",
    "L = s.split(\" \")\n",
    "L"
   ]
  },
  {
   "cell_type": "code",
   "execution_count": 2,
   "id": "faa77b07",
   "metadata": {},
   "outputs": [
    {
     "data": {
      "text/plain": [
       "'hola;que;tal'"
      ]
     },
     "execution_count": 2,
     "metadata": {},
     "output_type": "execute_result"
    }
   ],
   "source": [
    "s = \";\".join(L)\n",
    "s"
   ]
  },
  {
   "cell_type": "markdown",
   "id": "b2d418ad",
   "metadata": {},
   "source": [
    "Buscar dentro de las cadenas"
   ]
  },
  {
   "cell_type": "code",
   "execution_count": 4,
   "id": "4c250990",
   "metadata": {},
   "outputs": [
    {
     "name": "stdout",
     "output_type": "stream",
     "text": [
      "3 10\n",
      "-1\n"
     ]
    }
   ],
   "source": [
    "s = \"hola que tal\"\n",
    "print(s.find('a'), s.rfind('a'))\n",
    "print(s.find('z'))"
   ]
  },
  {
   "cell_type": "code",
   "execution_count": 5,
   "id": "cdd9c36a",
   "metadata": {},
   "outputs": [
    {
     "name": "stdout",
     "output_type": "stream",
     "text": [
      "3 10\n"
     ]
    },
    {
     "ename": "ValueError",
     "evalue": "substring not found",
     "output_type": "error",
     "traceback": [
      "\u001b[1;31m---------------------------------------------------------------------------\u001b[0m",
      "\u001b[1;31mValueError\u001b[0m                                Traceback (most recent call last)",
      "\u001b[1;32m<ipython-input-5-1e034948c6cd>\u001b[0m in \u001b[0;36m<module>\u001b[1;34m\u001b[0m\n\u001b[0;32m      1\u001b[0m \u001b[0ms\u001b[0m \u001b[1;33m=\u001b[0m \u001b[1;34m\"hola que tal\"\u001b[0m\u001b[1;33m\u001b[0m\u001b[1;33m\u001b[0m\u001b[0m\n\u001b[0;32m      2\u001b[0m \u001b[0mprint\u001b[0m\u001b[1;33m(\u001b[0m\u001b[0ms\u001b[0m\u001b[1;33m.\u001b[0m\u001b[0mindex\u001b[0m\u001b[1;33m(\u001b[0m\u001b[1;34m'a'\u001b[0m\u001b[1;33m)\u001b[0m\u001b[1;33m,\u001b[0m \u001b[0ms\u001b[0m\u001b[1;33m.\u001b[0m\u001b[0mrindex\u001b[0m\u001b[1;33m(\u001b[0m\u001b[1;34m'a'\u001b[0m\u001b[1;33m)\u001b[0m\u001b[1;33m)\u001b[0m\u001b[1;33m\u001b[0m\u001b[1;33m\u001b[0m\u001b[0m\n\u001b[1;32m----> 3\u001b[1;33m \u001b[0mprint\u001b[0m\u001b[1;33m(\u001b[0m\u001b[0ms\u001b[0m\u001b[1;33m.\u001b[0m\u001b[0mindex\u001b[0m\u001b[1;33m(\u001b[0m\u001b[1;34m'z'\u001b[0m\u001b[1;33m)\u001b[0m\u001b[1;33m)\u001b[0m\u001b[1;33m\u001b[0m\u001b[1;33m\u001b[0m\u001b[0m\n\u001b[0m",
      "\u001b[1;31mValueError\u001b[0m: substring not found"
     ]
    }
   ],
   "source": [
    "s = \"hola que tal\"\n",
    "print(s.index('a'), s.rindex('a'))\n",
    "print(s.index('z'))"
   ]
  },
  {
   "cell_type": "markdown",
   "id": "25d584c7",
   "metadata": {},
   "source": [
    "Conversiones"
   ]
  },
  {
   "cell_type": "code",
   "execution_count": 8,
   "id": "a7c1f395",
   "metadata": {},
   "outputs": [
    {
     "name": "stdout",
     "output_type": "stream",
     "text": [
      "Hola Que Tal\n",
      "Hola que tal\n",
      "HOLA QUE TAL\n",
      "hola que tal\n",
      "holaquetal\n"
     ]
    }
   ],
   "source": [
    "print(s.title())\n",
    "print(s.capitalize())\n",
    "print(s.upper())\n",
    "print(s)\n",
    "print(s.replace(' ',''))"
   ]
  },
  {
   "cell_type": "code",
   "execution_count": 9,
   "id": "cce926c5",
   "metadata": {},
   "outputs": [
    {
     "data": {
      "text/plain": [
       "'hola que tal'"
      ]
     },
     "execution_count": 9,
     "metadata": {},
     "output_type": "execute_result"
    }
   ],
   "source": [
    "s = \"   hola que tal\"\n",
    "s.strip()"
   ]
  },
  {
   "cell_type": "code",
   "execution_count": 10,
   "id": "c2fb7ed3",
   "metadata": {},
   "outputs": [
    {
     "name": "stdout",
     "output_type": "stream",
     "text": [
      "isalnum\n",
      "isalpha\n",
      "isascii\n",
      "isdecimal\n",
      "isdigit\n",
      "isidentifier\n",
      "islower\n",
      "isnumeric\n",
      "isprintable\n",
      "isspace\n",
      "istitle\n",
      "isupper\n"
     ]
    }
   ],
   "source": [
    "L = dir(str)\n",
    "for i in L:\n",
    "    if i[:2]=='is':\n",
    "        print(i)"
   ]
  },
  {
   "cell_type": "code",
   "execution_count": 11,
   "id": "ae195964",
   "metadata": {},
   "outputs": [
    {
     "name": "stdout",
     "output_type": "stream",
     "text": [
      "False\n"
     ]
    }
   ],
   "source": [
    "print(\"345.5\".isnumeric())"
   ]
  },
  {
   "cell_type": "code",
   "execution_count": 12,
   "id": "c7a58322",
   "metadata": {},
   "outputs": [
    {
     "name": "stdout",
     "output_type": "stream",
     "text": [
      "True\n"
     ]
    }
   ],
   "source": [
    "print(\"345\".isnumeric())"
   ]
  },
  {
   "cell_type": "code",
   "execution_count": 13,
   "id": "1757930d",
   "metadata": {},
   "outputs": [
    {
     "name": "stdout",
     "output_type": "stream",
     "text": [
      "False\n"
     ]
    }
   ],
   "source": [
    "print(\"345.5\".isdecimal())"
   ]
  },
  {
   "cell_type": "code",
   "execution_count": null,
   "id": "35199878",
   "metadata": {},
   "outputs": [],
   "source": []
  }
 ],
 "metadata": {
  "kernelspec": {
   "display_name": "Python 3 (ipykernel)",
   "language": "python",
   "name": "python3"
  },
  "language_info": {
   "codemirror_mode": {
    "name": "ipython",
    "version": 3
   },
   "file_extension": ".py",
   "mimetype": "text/x-python",
   "name": "python",
   "nbconvert_exporter": "python",
   "pygments_lexer": "ipython3",
   "version": "3.8.5"
  }
 },
 "nbformat": 4,
 "nbformat_minor": 5
}
