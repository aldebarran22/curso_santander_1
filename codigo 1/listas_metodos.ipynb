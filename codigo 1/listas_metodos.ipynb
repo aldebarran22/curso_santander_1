{
 "cells": [
  {
   "cell_type": "markdown",
   "id": "96f9886b",
   "metadata": {},
   "source": [
    "## Métodos de las listas"
   ]
  },
  {
   "cell_type": "markdown",
   "id": "a74a5bde",
   "metadata": {},
   "source": [
    "Operadores relacionales a nivel de listas"
   ]
  },
  {
   "cell_type": "code",
   "execution_count": 3,
   "id": "79945c05",
   "metadata": {},
   "outputs": [
    {
     "name": "stdout",
     "output_type": "stream",
     "text": [
      "[1, 2, 3, 4]\n",
      "[1, 2, 4, 3]\n"
     ]
    }
   ],
   "source": [
    "L1 = [1,2,3,4]\n",
    "L2 = [1,2,4,3]\n",
    "print(L1)\n",
    "print(L2)"
   ]
  },
  {
   "cell_type": "code",
   "execution_count": 4,
   "id": "9441f917",
   "metadata": {},
   "outputs": [
    {
     "data": {
      "text/plain": [
       "False"
      ]
     },
     "execution_count": 4,
     "metadata": {},
     "output_type": "execute_result"
    }
   ],
   "source": [
    "L1 == L2"
   ]
  },
  {
   "cell_type": "code",
   "execution_count": 5,
   "id": "729c12cc",
   "metadata": {},
   "outputs": [
    {
     "data": {
      "text/plain": [
       "True"
      ]
     },
     "execution_count": 5,
     "metadata": {},
     "output_type": "execute_result"
    }
   ],
   "source": [
    "L2 > L1"
   ]
  },
  {
   "cell_type": "code",
   "execution_count": 6,
   "id": "71050c9c",
   "metadata": {},
   "outputs": [
    {
     "name": "stdout",
     "output_type": "stream",
     "text": [
      "[1, 2, 3, 4]\n",
      "[1, 2, 4]\n",
      "True\n"
     ]
    }
   ],
   "source": [
    "L1 = [1,2,3,4]\n",
    "L2 = [1,2,4]\n",
    "print(L1)\n",
    "print(L2)\n",
    "print(L2 > L1)"
   ]
  },
  {
   "cell_type": "code",
   "execution_count": 7,
   "id": "0ca2cc72",
   "metadata": {},
   "outputs": [
    {
     "data": {
      "text/plain": [
       "True"
      ]
     },
     "execution_count": 7,
     "metadata": {},
     "output_type": "execute_result"
    }
   ],
   "source": [
    "L1 = [\"Ana\",\"Juan\",\"Andres\"]\n",
    "L2 = [\"Ana\",\"Juan\",\"Raul\"]\n",
    "L1 < L2"
   ]
  },
  {
   "cell_type": "code",
   "execution_count": 8,
   "id": "736b8a91",
   "metadata": {},
   "outputs": [
    {
     "data": {
      "text/plain": [
       "True"
      ]
     },
     "execution_count": 8,
     "metadata": {},
     "output_type": "execute_result"
    }
   ],
   "source": [
    "L1 = [\"Ana\",\"Juan\",\"Andres\"]\n",
    "L2 = [\"Ana\",\"Juan\",\"Andres\"]\n",
    "L1 == L2"
   ]
  },
  {
   "cell_type": "markdown",
   "id": "61ccf175",
   "metadata": {},
   "source": [
    "Añadir elementos a una lista"
   ]
  },
  {
   "cell_type": "code",
   "execution_count": 9,
   "id": "7e789683",
   "metadata": {},
   "outputs": [
    {
     "data": {
      "text/plain": [
       "[1, 2, 3, 4, 5, 6, 7, 8, 9]"
      ]
     },
     "execution_count": 9,
     "metadata": {},
     "output_type": "execute_result"
    }
   ],
   "source": [
    "L = [1,2,3,4,5,6,7,8,9]\n",
    "L"
   ]
  },
  {
   "cell_type": "code",
   "execution_count": 10,
   "id": "6ba36df0",
   "metadata": {},
   "outputs": [
    {
     "data": {
      "text/plain": [
       "[1, 2, 3, 4, 5, 6, 7, 8, 9, (10, 11, 12)]"
      ]
     },
     "execution_count": 10,
     "metadata": {},
     "output_type": "execute_result"
    }
   ],
   "source": [
    "# Añadir por el final\n",
    "t = (10,11,12)\n",
    "\n",
    "L.append(t)\n",
    "L"
   ]
  },
  {
   "cell_type": "code",
   "execution_count": 11,
   "id": "7ff6de9b",
   "metadata": {},
   "outputs": [
    {
     "data": {
      "text/plain": [
       "(10, 11, 12)"
      ]
     },
     "execution_count": 11,
     "metadata": {},
     "output_type": "execute_result"
    }
   ],
   "source": [
    "L[-1]"
   ]
  },
  {
   "cell_type": "code",
   "execution_count": 12,
   "id": "7590cbd5",
   "metadata": {},
   "outputs": [
    {
     "data": {
      "text/plain": [
       "[1, 2, 3, 4, 5, 6, 7, 8, 9]"
      ]
     },
     "execution_count": 12,
     "metadata": {},
     "output_type": "execute_result"
    }
   ],
   "source": [
    "L = [1,2,3,4,5,6,7,8,9]\n",
    "L"
   ]
  },
  {
   "cell_type": "code",
   "execution_count": 13,
   "id": "085d6810",
   "metadata": {},
   "outputs": [
    {
     "data": {
      "text/plain": [
       "[1, 2, 3, 4, 5, 6, 7, 8, 9, 10, 11, 12]"
      ]
     },
     "execution_count": 13,
     "metadata": {},
     "output_type": "execute_result"
    }
   ],
   "source": [
    "# Añadir por el final\n",
    "t = (10,11,12)\n",
    "\n",
    "L.extend(t)\n",
    "L"
   ]
  },
  {
   "cell_type": "code",
   "execution_count": 14,
   "id": "d3ddd3bf",
   "metadata": {},
   "outputs": [
    {
     "data": {
      "text/plain": [
       "[1000, 1, 2, 3, 4, 5, 6, 7, 8, 9, 10, 11, 12]"
      ]
     },
     "execution_count": 14,
     "metadata": {},
     "output_type": "execute_result"
    }
   ],
   "source": [
    "# insertar por el principio\n",
    "L.insert(0,1000)\n",
    "L"
   ]
  },
  {
   "cell_type": "markdown",
   "id": "0dabbd0c",
   "metadata": {},
   "source": [
    "Borrar elementos de una lista"
   ]
  },
  {
   "cell_type": "code",
   "execution_count": 15,
   "id": "c77b96e0",
   "metadata": {},
   "outputs": [
    {
     "data": {
      "text/plain": [
       "[1, 2, 3, 4, 5, 6, 7, 8, 9, 10, 11, 12]"
      ]
     },
     "execution_count": 15,
     "metadata": {},
     "output_type": "execute_result"
    }
   ],
   "source": [
    "del(L[0])\n",
    "L"
   ]
  },
  {
   "cell_type": "code",
   "execution_count": 16,
   "id": "f313bbe4",
   "metadata": {},
   "outputs": [
    {
     "data": {
      "text/plain": [
       "[1, 2, 3, 4, 5, 6, 7, 8, 9, 11, 12]"
      ]
     },
     "execution_count": 16,
     "metadata": {},
     "output_type": "execute_result"
    }
   ],
   "source": [
    "L.remove(10)\n",
    "L"
   ]
  },
  {
   "cell_type": "code",
   "execution_count": 17,
   "id": "ff3c7576",
   "metadata": {},
   "outputs": [
    {
     "data": {
      "text/plain": [
       "12"
      ]
     },
     "execution_count": 17,
     "metadata": {},
     "output_type": "execute_result"
    }
   ],
   "source": [
    "L.pop(-1)"
   ]
  },
  {
   "cell_type": "markdown",
   "id": "5f5795d8",
   "metadata": {},
   "source": [
    "Buscar dentro de la lista"
   ]
  },
  {
   "cell_type": "code",
   "execution_count": 18,
   "id": "ea7012ca",
   "metadata": {},
   "outputs": [
    {
     "data": {
      "text/plain": [
       "1"
      ]
     },
     "execution_count": 18,
     "metadata": {},
     "output_type": "execute_result"
    }
   ],
   "source": [
    "L.count(9)"
   ]
  },
  {
   "cell_type": "code",
   "execution_count": 19,
   "id": "37aeb479",
   "metadata": {},
   "outputs": [
    {
     "data": {
      "text/plain": [
       "8"
      ]
     },
     "execution_count": 19,
     "metadata": {},
     "output_type": "execute_result"
    }
   ],
   "source": [
    "L.index(9)"
   ]
  },
  {
   "cell_type": "code",
   "execution_count": 20,
   "id": "d2ac3618",
   "metadata": {},
   "outputs": [
    {
     "ename": "ValueError",
     "evalue": "20 is not in list",
     "output_type": "error",
     "traceback": [
      "\u001b[1;31m---------------------------------------------------------------------------\u001b[0m",
      "\u001b[1;31mValueError\u001b[0m                                Traceback (most recent call last)",
      "\u001b[1;32m<ipython-input-20-6e9fe437a01b>\u001b[0m in \u001b[0;36m<module>\u001b[1;34m\u001b[0m\n\u001b[1;32m----> 1\u001b[1;33m \u001b[0mL\u001b[0m\u001b[1;33m.\u001b[0m\u001b[0mindex\u001b[0m\u001b[1;33m(\u001b[0m\u001b[1;36m20\u001b[0m\u001b[1;33m)\u001b[0m\u001b[1;33m\u001b[0m\u001b[1;33m\u001b[0m\u001b[0m\n\u001b[0m",
      "\u001b[1;31mValueError\u001b[0m: 20 is not in list"
     ]
    }
   ],
   "source": [
    "L.index(20)"
   ]
  },
  {
   "cell_type": "code",
   "execution_count": 21,
   "id": "cc1dca42",
   "metadata": {},
   "outputs": [
    {
     "data": {
      "text/plain": [
       "[1, 2, 3, 4, 5, 6, 7, 8, 9, 11, 1, 2, 3]"
      ]
     },
     "execution_count": 21,
     "metadata": {},
     "output_type": "execute_result"
    }
   ],
   "source": [
    "L.extend((1,2,3))\n",
    "L"
   ]
  },
  {
   "cell_type": "code",
   "execution_count": 23,
   "id": "03527eab",
   "metadata": {},
   "outputs": [],
   "source": [
    "def indexAll(L, valor):\n",
    "    \"\"\"\n",
    "    Devuelve una lista con todos los indices donde se encuentra valor\n",
    "    \"\"\"\n",
    "    indices = []\n",
    "    n = L.count(valor)\n",
    "    if n != 0:\n",
    "        pos = 0\n",
    "        for i in range(n):\n",
    "            ind = L.index(valor, pos)\n",
    "            indices.append(ind)\n",
    "            pos = ind+1\n",
    "    return indices\n",
    "    "
   ]
  },
  {
   "cell_type": "code",
   "execution_count": 24,
   "id": "3bdc81f2",
   "metadata": {},
   "outputs": [
    {
     "name": "stdout",
     "output_type": "stream",
     "text": [
      "[0, 5, 9, 10]\n"
     ]
    }
   ],
   "source": [
    "L = [1,0,0,3,4,1,8,8,9,1,1]\n",
    "print(indexAll(L, 1))"
   ]
  },
  {
   "cell_type": "code",
   "execution_count": 25,
   "id": "fdbcdab6",
   "metadata": {},
   "outputs": [
    {
     "data": {
      "text/plain": [
       "[1, 1, 9, 8, 8, 1, 4, 3, 0, 0, 1]"
      ]
     },
     "execution_count": 25,
     "metadata": {},
     "output_type": "execute_result"
    }
   ],
   "source": [
    "L[::-1]"
   ]
  },
  {
   "cell_type": "code",
   "execution_count": 26,
   "id": "9a7c7453",
   "metadata": {},
   "outputs": [
    {
     "data": {
      "text/plain": [
       "[1, 0, 0, 3, 4, 1, 8, 8, 9, 1, 1]"
      ]
     },
     "execution_count": 26,
     "metadata": {},
     "output_type": "execute_result"
    }
   ],
   "source": [
    "L"
   ]
  },
  {
   "cell_type": "code",
   "execution_count": 27,
   "id": "4042e055",
   "metadata": {},
   "outputs": [
    {
     "data": {
      "text/plain": [
       "[1, 1, 9, 8, 8, 1, 4, 3, 0, 0, 1]"
      ]
     },
     "execution_count": 27,
     "metadata": {},
     "output_type": "execute_result"
    }
   ],
   "source": [
    "L.reverse()\n",
    "L"
   ]
  },
  {
   "cell_type": "markdown",
   "id": "1e361775",
   "metadata": {},
   "source": [
    "Ordenación de listas"
   ]
  },
  {
   "cell_type": "code",
   "execution_count": 28,
   "id": "919aa28d",
   "metadata": {},
   "outputs": [
    {
     "data": {
      "text/plain": [
       "[1, 1, 2, 2, 3, 4, 4, 5, 5]"
      ]
     },
     "execution_count": 28,
     "metadata": {},
     "output_type": "execute_result"
    }
   ],
   "source": [
    "L = [1,4,5,3,2,1,2,4,5]\n",
    "L.sort()\n",
    "L"
   ]
  },
  {
   "cell_type": "code",
   "execution_count": 29,
   "id": "1ea43993",
   "metadata": {},
   "outputs": [
    {
     "data": {
      "text/plain": [
       "[5, 5, 4, 4, 3, 2, 2, 1, 1]"
      ]
     },
     "execution_count": 29,
     "metadata": {},
     "output_type": "execute_result"
    }
   ],
   "source": [
    "L.sort(reverse=True)\n",
    "L"
   ]
  },
  {
   "cell_type": "code",
   "execution_count": 30,
   "id": "f43e0855",
   "metadata": {},
   "outputs": [
    {
     "data": {
      "text/plain": [
       "[' ', ' ', 'a', 'a', 'e', 'h', 'l', 'l', 'o', 'q', 't', 'u']"
      ]
     },
     "execution_count": 30,
     "metadata": {},
     "output_type": "execute_result"
    }
   ],
   "source": [
    "L = list(\"hola que tal\")\n",
    "L.sort()\n",
    "L"
   ]
  },
  {
   "cell_type": "code",
   "execution_count": 31,
   "id": "a151acc0",
   "metadata": {},
   "outputs": [
    {
     "data": {
      "text/plain": [
       "['Alberto', 'Ana', 'Andres', 'Belen', 'Raul', 'Sonia']"
      ]
     },
     "execution_count": 31,
     "metadata": {},
     "output_type": "execute_result"
    }
   ],
   "source": [
    "L = ['Raul','Andres','Ana','Alberto','Belen','Sonia']\n",
    "L.sort()\n",
    "L"
   ]
  },
  {
   "cell_type": "code",
   "execution_count": 34,
   "id": "6910f57f",
   "metadata": {},
   "outputs": [
    {
     "data": {
      "text/plain": [
       "['Alberto', 'Andres', 'Belen', 'Sonia', 'Raul', 'Ana']"
      ]
     },
     "execution_count": 34,
     "metadata": {},
     "output_type": "execute_result"
    }
   ],
   "source": [
    "# Ordenar según el numero de caracteres que tiene el nombre\n",
    "L.sort(key=len, reverse=True)\n",
    "L"
   ]
  },
  {
   "cell_type": "code",
   "execution_count": 35,
   "id": "2c8a2bb6",
   "metadata": {},
   "outputs": [
    {
     "data": {
      "text/plain": [
       "[[1, 1, 4], [1, 1, 1, 2, 2, 3, 4, 5, 6, 7, 7, 9], [34, 56, 77], [900]]"
      ]
     },
     "execution_count": 35,
     "metadata": {},
     "output_type": "execute_result"
    }
   ],
   "source": [
    "L = [[1,1,4], [900],[1,1,1,2,2,3,4,5,6,7,7,9],[34,56,77]]\n",
    "# Ordenar según la suma de los elementos: ASC\n",
    "L.sort(key=sum)\n",
    "L"
   ]
  },
  {
   "cell_type": "code",
   "execution_count": 36,
   "id": "87c5cc45",
   "metadata": {},
   "outputs": [
    {
     "data": {
      "text/plain": [
       "[('Ana', 52, 1.68),\n",
       " ('Maria', 23, 1.88),\n",
       " ('Raul', 34, 1.78),\n",
       " ('Sonia', 45, 1.72)]"
      ]
     },
     "execution_count": 36,
     "metadata": {},
     "output_type": "execute_result"
    }
   ],
   "source": [
    "L = [('Raul',34,1.78), ('Sonia',45,1.72),('Ana',52,1.68),('Maria',23,1.88)]\n",
    "L.sort()\n",
    "L"
   ]
  },
  {
   "cell_type": "code",
   "execution_count": 37,
   "id": "28e5e879",
   "metadata": {},
   "outputs": [
    {
     "data": {
      "text/plain": [
       "[('Ana', 52, 1.68),\n",
       " ('Sonia', 45, 1.72),\n",
       " ('Raul', 34, 1.78),\n",
       " ('Maria', 23, 1.88)]"
      ]
     },
     "execution_count": 37,
     "metadata": {},
     "output_type": "execute_result"
    }
   ],
   "source": [
    "# Ordenar por edad DESC:\n",
    "L.sort(key=lambda t: t[1], reverse=True)\n",
    "L"
   ]
  },
  {
   "cell_type": "code",
   "execution_count": 39,
   "id": "a9c6dd82",
   "metadata": {},
   "outputs": [
    {
     "data": {
      "text/plain": [
       "[('Ana', 52, 1.68),\n",
       " ('Sonia', 45, 1.72),\n",
       " ('Raul', 34, 1.78),\n",
       " ('Maria', 23, 1.88)]"
      ]
     },
     "execution_count": 39,
     "metadata": {},
     "output_type": "execute_result"
    }
   ],
   "source": [
    "# Ordenar por altura ASC:\n",
    "L.sort(key=lambda t: t[2])\n",
    "L"
   ]
  },
  {
   "cell_type": "code",
   "execution_count": 40,
   "id": "b20542cf",
   "metadata": {},
   "outputs": [],
   "source": [
    "from datetime import datetime"
   ]
  },
  {
   "cell_type": "code",
   "execution_count": 41,
   "id": "5bba70ba",
   "metadata": {},
   "outputs": [
    {
     "data": {
      "text/plain": [
       "[datetime.datetime(2000, 5, 12, 5, 6, 7),\n",
       " datetime.datetime(2020, 12, 31, 6, 8, 11),\n",
       " datetime.datetime(2020, 12, 31, 6, 8, 12),\n",
       " datetime.datetime(2022, 10, 18, 13, 43, 14, 830711)]"
      ]
     },
     "execution_count": 41,
     "metadata": {},
     "output_type": "execute_result"
    }
   ],
   "source": [
    "L = [datetime.now(), datetime(2020,12,31,6,8,12), datetime(2020,12,31,6,8,11),datetime(2000,5,12,5,6,7)]\n",
    "L.sort()\n",
    "L"
   ]
  },
  {
   "cell_type": "markdown",
   "id": "97ddc1b8",
   "metadata": {},
   "source": [
    "Ordenar colecciones con sorted"
   ]
  },
  {
   "cell_type": "code",
   "execution_count": 43,
   "id": "cd314a58",
   "metadata": {},
   "outputs": [
    {
     "name": "stdout",
     "output_type": "stream",
     "text": [
      "(9, 5, 4, 1, 1, 2, 3, 45, 7)\n",
      "[45, 9, 7, 5, 4, 3, 2, 1, 1]\n"
     ]
    }
   ],
   "source": [
    "t = (9,5,4,1,1,2,3,45,7)\n",
    "print(t)\n",
    "L = sorted(t, reverse=True)\n",
    "print(L)"
   ]
  },
  {
   "cell_type": "code",
   "execution_count": null,
   "id": "294cfb5a",
   "metadata": {},
   "outputs": [],
   "source": []
  }
 ],
 "metadata": {
  "kernelspec": {
   "display_name": "Python 3 (ipykernel)",
   "language": "python",
   "name": "python3"
  },
  "language_info": {
   "codemirror_mode": {
    "name": "ipython",
    "version": 3
   },
   "file_extension": ".py",
   "mimetype": "text/x-python",
   "name": "python",
   "nbconvert_exporter": "python",
   "pygments_lexer": "ipython3",
   "version": "3.8.5"
  }
 },
 "nbformat": 4,
 "nbformat_minor": 5
}
